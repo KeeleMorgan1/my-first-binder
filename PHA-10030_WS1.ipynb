{
 "cells": [
  {
   "cell_type": "markdown",
   "id": "f6807dcc-53ea-4d49-a718-9801dfe25355",
   "metadata": {},
   "source": [
    "# PHA-10030 - Using Python for Biochemistry & Cell Biology Data\r",
    "## \n",
    "Workshop 1 - Introduction to Python\r\n",
    "In this Workshop we will introduce you to the Jupyter Notebook environment, and    :\r\n",
    "- Assign values to varlesl    es\r\n",
    "- Use the 'print' function to check how the code is work    ing\r\n",
    "- Use multiple assignments to assign several variables at     once\r\n",
    "- Use a 'for' loop to perform the same action on the items in a list\r\n"
   ]
  },
  {
   "cell_type": "markdown",
   "id": "2a5498f4-5522-4357-b167-81f174a04902",
   "metadata": {},
   "source": [
    "## Getting Started\n",
    "\n",
    "Python is a computer programme that has become ubiquitous amongst scientific users.  Our lessons will run Python *interactively* through a python interpreter inside a Jupyter notebook.  The setup page should have provided information on how to install and start a Jupyter notebook.  Evedrything encoded in a code block is something you could type into your Python interpreter and evaluate.\n",
    "\n",
    "### Setting up your Jupyter notebook\n",
    "\n",
    "If you are reading this page then you have succeeded in getting access to a Jupyter notebook.  Now we will use the notebook to execute Python code.  Jupyter notebooks are divided into cells.  You run a Jupyter notebook one cell at a a time.  To execute a cell, click inside the cell and press `shift + enter`.\n",
    "\n",
    "JUpyter Notebooks allows us to use something called **markdown** in selected cells.  We can use markdown to write descriptions about our notebooks for other people to read. It's good practice to have your first cell be markdown to explain the purpose of the notebook.  Let's do that in our first cell.  Click inside the first cell below, then on top of the screen select *markdown* from the dropdown menu that currently says *code*.\n",
    "\n",
    "Now return to the celland type the following:\n",
    "\n",
    "    ## Assigning Variables and Data Types\n",
    "\n",
    "    Any Python interpreter can work just like a calculator\n",
    "\n",
    "\n"
   ]
  },
  {
   "cell_type": "markdown",
   "id": "fc70908f-47af-45c1-9b28-58d4a134e895",
   "metadata": {},
   "source": [
    "## Assigning Variables and Data Types\n",
    "\n",
    "Any Python interpreter can work just like a calculatoror"
   ]
  },
  {
   "cell_type": "code",
   "execution_count": 2,
   "id": "d0902574-68fa-435f-9616-f840eae52a5e",
   "metadata": {},
   "outputs": [
    {
     "data": {
      "text/plain": [
       "10"
      ]
     },
     "execution_count": 2,
     "metadata": {},
     "output_type": "execute_result"
    }
   ],
   "source": [
    "7 + 3"
   ]
  },
  {
   "cell_type": "markdown",
   "id": "ed5fda8c-cfbe-4266-9b26-2aa1e286bafd",
   "metadata": {
    "editable": true,
    "slideshow": {
     "slide_type": ""
    },
    "tags": []
   },
   "source": [
    "The real power of Python comes when you start creating variables.  This allows you to define variable names that have values assigned to them.  A variable can have one single value, like a number,, or it can be a collection of values (like a list), or even a collection of actions or calculations and values.\n",
    "\n",
    "To create a variable in Python, the syntax is:\n",
    "\n",
    "    variable_name = variable value\n",
    "\n",
    "This is called **variable assignment**."
   ]
  },
  {
   "cell_type": "code",
   "execution_count": 66,
   "id": "7b1687ff-e616-4700-ba54-35a8292a7b8e",
   "metadata": {},
   "outputs": [],
   "source": [
    "# Assign values to two variables, amount and volume\n",
    "\n",
    "amount = 0.1 # moles\n",
    "volume = 0.5 #litres"
   ]
  },
  {
   "cell_type": "markdown",
   "id": "47942f63-d596-4204-972e-238d9fa607e1",
   "metadata": {},
   "source": [
    "You can use variables you've defined in calculations"
   ]
  },
  {
   "cell_type": "code",
   "execution_count": 6,
   "id": "9257df23-3b50-44ab-808f-67aa6c44f9cc",
   "metadata": {
    "editable": true,
    "slideshow": {
     "slide_type": ""
    },
    "tags": []
   },
   "outputs": [
    {
     "data": {
      "text/plain": [
       "0.1"
      ]
     },
     "execution_count": 6,
     "metadata": {},
     "output_type": "execute_result"
    }
   ],
   "source": [
    "molarity = amount / volume # moles/litre \n",
    "molarity"
   ]
  },
  {
   "cell_type": "markdown",
   "id": "edf285d8-9c69-4490-a95e-6f77c7e85f4b",
   "metadata": {},
   "source": [
    "## Data Types\n",
    "\n",
    "Each variable is some particular type of data.  The most common types are strings (str), integers (int), and floating point numbers (float). You can identify the type of data of any variable using the function `type`.\n",
    "\n",
    "    type(variable name)"
   ]
  },
  {
   "cell_type": "code",
   "execution_count": 10,
   "id": "ceacd378-850f-4770-b7cf-ee620c9534fd",
   "metadata": {},
   "outputs": [
    {
     "data": {
      "text/plain": [
       "float"
      ]
     },
     "execution_count": 10,
     "metadata": {},
     "output_type": "execute_result"
    }
   ],
   "source": [
    "type(molarity)"
   ]
  },
  {
   "cell_type": "code",
   "execution_count": 12,
   "id": "a0ffb0eb-f247-4091-8116-9d155b99abd8",
   "metadata": {},
   "outputs": [
    {
     "data": {
      "text/plain": [
       "str"
      ]
     },
     "execution_count": 12,
     "metadata": {},
     "output_type": "execute_result"
    }
   ],
   "source": [
    "# define a \"word\" (string)\n",
    "\n",
    "units = \"moles/litre\"\n",
    "type(units)"
   ]
  },
  {
   "cell_type": "markdown",
   "id": "a72c3c19-e007-4c33-bf8a-ae9b5b11fede",
   "metadata": {},
   "source": [
    "## Formatted (f-string) printing\n",
    "\n",
    "If you would like to create a string variable containing both text and variables you can do so with f-string printing.\n",
    "\n",
    "The syntax for an f-string is:\n",
    "\n",
    "    my_phrase = f\"Hello {variable}\"\n",
    "\n",
    "Where `variable` is some variable you have previously defined\n",
    "\n"
   ]
  },
  {
   "cell_type": "code",
   "execution_count": 17,
   "id": "04149969-4c9f-4306-8867-57df3ff934a4",
   "metadata": {},
   "outputs": [
    {
     "name": "stdout",
     "output_type": "stream",
     "text": [
      "The concentration is 0.1moles/litre\n"
     ]
    }
   ],
   "source": [
    "my_string = f\"The concentration is {molarity}{units}\"\n",
    "print(my_string)"
   ]
  },
  {
   "cell_type": "markdown",
   "id": "0c081c95-9ad2-419e-b057-d80d81712dcf",
   "metadata": {},
   "source": [
    "## Lists\n",
    "\n",
    "Another common data structure is the list.  Lists can be used to group several values or variables together, and are declared using square brackets [_].  **Python assigns special meanings to square brackets [], curly brackets{} and parentheses(), so you must be careful with these characters!**\n",
    "\n",
    "List values are separated by commas. Python has several built in fnctions that can be used on lists.  For example the built in `Len` funtioncan be used to determinethe length of a list.\n",
    "\n",
    "    num_elements = len(list_variable)\n"
   ]
  },
  {
   "cell_type": "code",
   "execution_count": 28,
   "id": "91d02a53-4e4c-45d9-ad1a-db7167a85138",
   "metadata": {},
   "outputs": [
    {
     "name": "stdout",
     "output_type": "stream",
     "text": [
      "There are 5 values in the amounts list\n"
     ]
    }
   ],
   "source": [
    "amounts = [0.1, 0.2, 0.4, 0.75, 1.5]\n",
    "num_elements = len(amounts)\n",
    "\n",
    "#write a print statement here to tell the reader the number of elements in the variable amounts\n",
    "\n"
   ]
  },
  {
   "cell_type": "markdown",
   "id": "ea3b1030-fca3-4d17-80d9-d44a0129947e",
   "metadata": {},
   "source": [
    "## Slices\n",
    "\n",
    "If you want to operate on a particular element in a list, you use the list name and then put in brackets which element in the list you want to use. **In Pythoncounting starts at zero.  So the first element in a list is `list[0]`**"
   ]
  },
  {
   "cell_type": "code",
   "execution_count": 33,
   "id": "0cf88dfb-51d5-4c4e-95ff-c7a30f0cd430",
   "metadata": {},
   "outputs": [
    {
     "data": {
      "text/plain": [
       "0.75"
      ]
     },
     "execution_count": 33,
     "metadata": {},
     "output_type": "execute_result"
    }
   ],
   "source": [
    "amounts[3]"
   ]
  },
  {
   "cell_type": "markdown",
   "id": "a695cdc1-eca2-4208-8d90-6476e474cb6e",
   "metadata": {},
   "source": [
    "Sometimes you will want to make a list that is a subset of a larger list.For example we might want to make a new list that is just the first few elements of our previous list.  This is called a slice.  The general syntax is:\n",
    "    \n",
    "        new_list = old_list[start:end]\n",
    "\n",
    "When taking a slice, it is very important to remember how numbering works in Python.  Remember that counting starts at zero, so the first element in a list is `list_name[0]`. When you specify the last element in a slice, it goes *up to but not including* that element in a list.  So a slice like"
   ]
  },
  {
   "cell_type": "code",
   "execution_count": 43,
   "id": "0f0f5117-9d30-48aa-890d-aad348e67fcc",
   "metadata": {},
   "outputs": [
    {
     "name": "stdout",
     "output_type": "stream",
     "text": [
      "[0.1, 0.2]\n"
     ]
    }
   ],
   "source": [
    "first_two = amounts[0:2]\n",
    "print(first_two)"
   ]
  },
  {
   "cell_type": "markdown",
   "id": "936fa796-fc00-45d1-8d6a-72b89bd22f3c",
   "metadata": {},
   "source": [
    "## Repeating an operation many times: *for* loops\n",
    "\n",
    "Often you will want to do things to each element in a list.  The structure for doing that is a `for` loop.  The general structure of a `for` loop is:\n",
    "\n",
    "```python\n",
    "for variable in list:\n",
    "    do things to variable\n"
   ]
  },
  {
   "cell_type": "code",
   "execution_count": 52,
   "id": "e716d911-c54f-4c21-9839-4fcb30560bb4",
   "metadata": {},
   "outputs": [
    {
     "name": "stdout",
     "output_type": "stream",
     "text": [
      "0.1\n",
      "0.2\n",
      "0.4\n",
      "0.75\n",
      "1.5\n"
     ]
    }
   ],
   "source": [
    "for value in amounts:\n",
    "    print(value)"
   ]
  },
  {
   "cell_type": "code",
   "execution_count": 68,
   "id": "296bf8a4-0572-45f1-a0ed-014c31a37e52",
   "metadata": {},
   "outputs": [
    {
     "name": "stdout",
     "output_type": "stream",
     "text": [
      "0.2\n",
      "0.4\n",
      "0.8\n",
      "1.5\n",
      "3.0\n"
     ]
    }
   ],
   "source": [
    "for value in amounts:\n",
    "    conc = value/volume\n",
    "    print(conc)"
   ]
  },
  {
   "cell_type": "code",
   "execution_count": 70,
   "id": "5160244f-6c02-45d4-8274-2426ad452da5",
   "metadata": {},
   "outputs": [
    {
     "name": "stdout",
     "output_type": "stream",
     "text": [
      "[0.2, 0.4, 0.8, 1.5, 3.0]\n"
     ]
    }
   ],
   "source": [
    "concentrations = []\n",
    "\n",
    "for value in amounts:\n",
    "    conc=value/volume\n",
    "    concentrations.append(conc)\n",
    "    \n",
    "print(concentrations)"
   ]
  },
  {
   "cell_type": "markdown",
   "id": "c588fe11-368e-4d57-a7e3-08d69179802d",
   "metadata": {},
   "source": [
    "## Making choices: Logic Statements"
   ]
  },
  {
   "cell_type": "code",
   "execution_count": null,
   "id": "a0283acf-cf7a-4996-9304-154704b8528a",
   "metadata": {},
   "outputs": [],
   "source": []
  },
  {
   "cell_type": "markdown",
   "id": "b8b8924f-d963-4aaf-a71f-49f26be75f2c",
   "metadata": {},
   "source": [
    "Other logic operations include:\n",
    "\n",
    "* equal to `==`\n",
    "* not equal to `!=`\n",
    "* greater than `>`\n",
    "* less than `<`\n",
    "* greater than or equal to `>=`\n",
    "* less than or equal to `<=`\n",
    "\n",
    "You can also use `and`, `or` and `not` to check more than one condition"
   ]
  },
  {
   "cell_type": "code",
   "execution_count": null,
   "id": "b97773fb-57db-4eee-ba96-016353f894de",
   "metadata": {},
   "outputs": [],
   "source": []
  },
  {
   "cell_type": "markdown",
   "id": "775b5cc8-ee7d-4177-80b7-d5d29c40003d",
   "metadata": {},
   "source": [
    "## Python Dictionaries\n",
    "\n",
    "An important data type for today will be a Python dictionary. A python dictionary is similar to a list, except that you can define each position in the list with a name, rather than just a number.  You can then use this name to look up information from the dictionary.  The names in the setting are refered to as \"keys\", and each key has an associated value.  The syntax for a dictionary is:\n",
    "\n",
    "```python\n",
    "dictionary_name = {\n",
    "    \"key_name_1\" : key1_value,\n",
    "    \"key_name_2\" : key2_value,\n",
    "}\n",
    "\n",
    "For instance we can define a dictionary of amino acids where the three letter amino acid codes are used for keys, and the values are the moelcular weights of the amino acids"
   ]
  },
  {
   "cell_type": "code",
   "execution_count": 101,
   "id": "224baa34-8f52-4f1a-9e27-1095944fc048",
   "metadata": {},
   "outputs": [],
   "source": [
    "amino_acids = {\n",
    "    \"ALA\" : 89.10,\n",
    "    \"ARG\" : 174.20,\n",
    "    \"ASN\" : 132.12,\n",
    "    \"ASP\" : 133.11\n",
    "}\n"
   ]
  },
  {
   "cell_type": "markdown",
   "id": "9f55889c-47db-4c9d-b63c-c495c3349952",
   "metadata": {},
   "source": [
    "We can then use the keys to look up the values"
   ]
  },
  {
   "cell_type": "code",
   "execution_count": 81,
   "id": "5991116c-323f-4dc4-920c-7e19d6351529",
   "metadata": {},
   "outputs": [
    {
     "data": {
      "text/plain": [
       "89.1"
      ]
     },
     "execution_count": 81,
     "metadata": {},
     "output_type": "execute_result"
    }
   ],
   "source": [
    "amino_acids[\"ALA\"]"
   ]
  },
  {
   "cell_type": "markdown",
   "id": "66705551-6c6c-41c5-afe4-be7b419fbf14",
   "metadata": {},
   "source": [
    "You can see *all* the keys or *all* the values for a dictionary:"
   ]
  },
  {
   "cell_type": "code",
   "execution_count": 103,
   "id": "d35e40b2-25a7-40a0-b1a6-5de6602c99ac",
   "metadata": {},
   "outputs": [
    {
     "name": "stdout",
     "output_type": "stream",
     "text": [
      "dict_keys(['ALA', 'ARG', 'ASN', 'ASP'])\n",
      "dict_values([89.1, 174.2, 132.12, 133.11])\n"
     ]
    }
   ],
   "source": [
    "print (amino_acids.keys())\n",
    "print (amino_acids.values())"
   ]
  },
  {
   "cell_type": "markdown",
   "id": "ddbc1fd5-007d-4a06-9453-ffe13dd97d1a",
   "metadata": {},
   "source": [
    "However, this information on its own can be less than useful, so common useage is to loop through the dictionary using `.items()`"
   ]
  },
  {
   "cell_type": "code",
   "execution_count": 105,
   "id": "ad3cc2bc-7057-4318-9834-28ba4377ffcc",
   "metadata": {},
   "outputs": [
    {
     "name": "stdout",
     "output_type": "stream",
     "text": [
      "the molecular weight of ALA is 89.1\n",
      "the molecular weight of ARG is 174.2\n",
      "the molecular weight of ASN is 132.12\n",
      "the molecular weight of ASP is 133.11\n"
     ]
    }
   ],
   "source": [
    "for key, value in amino_acids.items():\n",
    "    print(f\"the molecular weight of {key} is {value}\")"
   ]
  },
  {
   "cell_type": "code",
   "execution_count": null,
   "id": "1e40f7b9-1ea5-4ba0-88cc-b98db1758a52",
   "metadata": {},
   "outputs": [],
   "source": []
  }
 ],
 "metadata": {
  "kernelspec": {
   "display_name": "Python 3 (ipykernel)",
   "language": "python",
   "name": "python3"
  },
  "language_info": {
   "codemirror_mode": {
    "name": "ipython",
    "version": 3
   },
   "file_extension": ".py",
   "mimetype": "text/x-python",
   "name": "python",
   "nbconvert_exporter": "python",
   "pygments_lexer": "ipython3",
   "version": "3.11.5"
  }
 },
 "nbformat": 4,
 "nbformat_minor": 5
}
